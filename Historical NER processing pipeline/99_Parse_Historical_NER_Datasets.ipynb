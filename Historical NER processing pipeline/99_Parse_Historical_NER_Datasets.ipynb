{
 "cells": [
  {
   "cell_type": "code",
   "execution_count": null,
   "id": "ba35f7f9",
   "metadata": {},
   "outputs": [],
   "source": [
    "# Use this script to merge two JSON files containing historical NER data.\n",
    "# To get them, use the 99_Parse_ls_ner_labels.ipynb notebook first\n",
    "\n",
    "\n",
    "import json\n",
    "# This script merges two JSON files containing historical NER data.\n",
    "file1 = 'Historical-NER-Dataset_gpt_ner_fmt_FULL_60.json'\n",
    "file2 = 'Historical-NER-Dataset_gpt_ner_fmt_FULL_42.json'\n",
    "\n",
    "with open(file1, 'r', encoding='utf-8') as f1:\n",
    "    data1 = json.load(f1)\n",
    "\n",
    "with open(file2, 'r', encoding='utf-8') as f2:\n",
    "    data2 = json.load(f2)\n",
    "\n",
    "# Combine the data\n",
    "merged_data = data1 + data2\n"
   ]
  },
  {
   "cell_type": "code",
   "execution_count": null,
   "id": "a28de3b3",
   "metadata": {},
   "outputs": [
    {
     "name": "stdout",
     "output_type": "stream",
     "text": [
      "Removed 385 duplicate entries\n",
      "Total entries after deduplication: 4014\n"
     ]
    }
   ],
   "source": [
    "# Check for duplicates based on the \"context\" field and remove them\n",
    "\n",
    "# track unique\n",
    "unique_contexts = {}\n",
    "deduplicated_data = []\n",
    "\n",
    "# Process records\n",
    "for record in merged_data:\n",
    "    context = record.get(\"context\")\n",
    "    if context and context not in unique_contexts:\n",
    "        unique_contexts[context] = True\n",
    "        deduplicated_data.append(record)\n",
    "\n",
    "print(f\"Removed {len(merged_data) - len(deduplicated_data)} duplicate entries\")\n",
    "print(f\"Total entries after deduplication: {len(deduplicated_data)}\")"
   ]
  },
  {
   "cell_type": "code",
   "execution_count": 22,
   "id": "db9a494e",
   "metadata": {},
   "outputs": [
    {
     "name": "stdout",
     "output_type": "stream",
     "text": [
      "Removed 2919 records with context longer than 40 words\n",
      "Total entries after filtering long contexts: 1095\n",
      "{'context': 'kteří ve šlechetné dobročinnosti spolku hluchoněmých sv . Františka Saleského příspěvky věnovali :', 'end_position': [8, 9], 'entity_label': 'PER', 'impossible': False, 'qas_id': '0.1', 'query': 'person entities are named persons or family.', 'span_position': ['6;8', '9;9'], 'start_position': [6, 9], 'data_source': 'NER_02', 'file_name': '00000001__uuid:09ae4994-0ad9-4071-9f81-7df50a08c84a__r003.txt', 'anotator_id': '02'}\n"
     ]
    }
   ],
   "source": [
    "# Filter out records with long sentences\n",
    "max_words = 40\n",
    "filtered_data = []\n",
    "removed_count = 0\n",
    "\n",
    "for record in deduplicated_data:\n",
    "    context = record.get(\"context\", \"\")\n",
    "    # Count words in context\n",
    "    word_count = len(context.split())\n",
    "    \n",
    "    if word_count <= max_words:\n",
    "        filtered_data.append(record)\n",
    "    else:\n",
    "        removed_count += 1\n",
    "\n",
    "print(f\"Removed {removed_count} records with context longer than {max_words} words\")\n",
    "print(f\"Total entries after filtering long contexts: {len(filtered_data)}\")\n",
    "\n",
    "print(filtered_data[0])"
   ]
  },
  {
   "cell_type": "code",
   "execution_count": null,
   "id": "d70f436f",
   "metadata": {},
   "outputs": [
    {
     "name": "stdout",
     "output_type": "stream",
     "text": [
      "First part: 114 records\n",
      "Second part: 981 records\n",
      "First part sample:\n",
      "{'context': 'o K Soloturnu wogjn přiklopotá , zatraubiw dj ta slowa : č Wzali gste Ludwjka do brány , hněwu se třeste Cjsa -', 'end_position': [14], 'entity_label': 'PER', 'impossible': False, 'qas_id': '113.1', 'query': 'person entities are named persons or family.', 'span_position': ['14;14'], 'start_position': [14], 'data_source': 'NER_02', 'file_name': '00000344__uuid:d64ebace-2e95-422d-a3b7-ccb014fb933e__r004.txt', 'anotator_id': '02'}\n"
     ]
    }
   ],
   "source": [
    "# Split the data into two parts - test_part_amount records for test and the rest for training\n",
    "# and renumber the \"qas_id\" field in each part\n",
    "\n",
    "def renumber_qas_ids(data):\n",
    "    for i, record in enumerate(data):\n",
    "        record[\"qas_id\"] = f\"{i}.1\"\n",
    "    return data\n",
    "\n",
    "test_part_amount = 114\n",
    "test_part = filtered_data[:test_part_amount]\n",
    "train_part = filtered_data[test_part_amount:]\n",
    "\n",
    "test_part = renumber_qas_ids(test_part)\n",
    "train_part = renumber_qas_ids(train_part)\n",
    "\n",
    "print(f\"First part: {len(test_part)} records\")\n",
    "print(f\"Second part: {len(train_part)} records\")\n",
    "\n",
    "print(\"First part sample:\")\n",
    "print(test_part[-1])\n",
    "\n",
    "\n"
   ]
  },
  {
   "cell_type": "code",
   "execution_count": 24,
   "id": "a1b68181",
   "metadata": {},
   "outputs": [],
   "source": [
    "output_file_test = 'mrc-ner.test.114.filtered'\n",
    "output_file_train = 'mrc-ner.train.114.filtered'\n",
    "\n",
    "with open(output_file_test, 'w', encoding='utf-8') as f:\n",
    "    json.dump(test_part, f, ensure_ascii=False, indent=2)\n",
    "\n",
    "with open(output_file_train, 'w', encoding='utf-8') as f:\n",
    "    json.dump(train_part, f, ensure_ascii=False, indent=2)"
   ]
  }
 ],
 "metadata": {
  "kernelspec": {
   "display_name": "Python 3",
   "language": "python",
   "name": "python3"
  },
  "language_info": {
   "codemirror_mode": {
    "name": "ipython",
    "version": 3
   },
   "file_extension": ".py",
   "mimetype": "text/x-python",
   "name": "python",
   "nbconvert_exporter": "python",
   "pygments_lexer": "ipython3",
   "version": "3.11.9"
  }
 },
 "nbformat": 4,
 "nbformat_minor": 5
}
