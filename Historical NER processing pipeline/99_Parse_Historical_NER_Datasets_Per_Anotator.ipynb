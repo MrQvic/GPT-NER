{
 "cells": [
  {
   "cell_type": "code",
   "execution_count": 2,
   "id": "9d43cf9b",
   "metadata": {},
   "outputs": [],
   "source": [
    "# Use this script to merge two JSON files containing historical NER data.\n",
    "# To get them, use the 99_Parse_ls_ner_labels.ipynb notebook first\n",
    "\n",
    "\n",
    "import json\n",
    "# This script merges two JSON files containing historical NER data.\n",
    "file1 = 'Historical-NER-Dataset_gpt_ner_fmt_FULL_60.json'\n",
    "file2 = 'Historical-NER-Dataset_gpt_ner_fmt_FULL_42.json'\n",
    "\n",
    "with open(file1, 'r', encoding='utf-8') as f1:\n",
    "    data1 = json.load(f1)\n",
    "\n",
    "with open(file2, 'r', encoding='utf-8') as f2:\n",
    "    data2 = json.load(f2)\n",
    "\n",
    "# Combine the data\n",
    "merged_data = data1 + data2"
   ]
  },
  {
   "cell_type": "code",
   "execution_count": null,
   "id": "54d4c9a0",
   "metadata": {},
   "outputs": [
    {
     "name": "stdout",
     "output_type": "stream",
     "text": [
      "Total unique contexts in annotator 1 data: 1356\n",
      "Total unique contexts in annotator 2 data: 1134\n",
      "Total unique contexts in annotator 3 data: 1441\n",
      "Number of contexts common to all three annotators: 121\n",
      "Filtered annotator 1 data: 121 entries\n",
      "Filtered annotator 2 data: 121 entries\n",
      "Filtered annotator 3 data: 121 entries\n",
      "last data for annotator 3:\n",
      "{'context': 'členů Kinter Marcus , dr . , Raj - hrad 3 Knížek Jan B . , Libáň 33 Knüpfer Alfred , Broumov 11 Kober I . L . , Praha 34 Kopřiva J . F . , Pelhřimov 9 Kormout Lud . , Ústí nad Orlicí 23 Kotzura Karel , Klatovy 12 Kostka Č . , Zahrádka 3 Kračelík , Uh . Hradiště 5 Krause F . , Jílemnice 65 Kriegler F . , Jaroměř 13 Krušina J . , Červený Ko - 6 stelec Křeček J . , Česká Skalice 25 Křepelka J . , Končanice 4 Kučera J . , Napajedly 3 Kuchta T . , Orlov 11 Kupka J . , Třebechovice 18 Kvasnička J . V . , Třeboň 32 Lahodný , Popovice 3 Lácha M . J . , Netolice 20 3 Leger F . , Lužany Leicht B . , Budohostice 12 Liblinský J . , Královice 13 Linder Frant . , Jindřichův Hradec 22 3 Lípa , spolek Lipník Lodr Jan , Choceň 13 Louda V . , Hor . Bučice 43 Lvovský B . , Pětipsy 4 Maasch Kar . , Plzeň 7 Macoun Jan , Znojmo 10 Maixner J . , Hořice 40 Malina J . , Jaroměř 48 Manetín , okr . výbor 4 Maňhal Jak . , Mdr . Jinec 17 Mařan J . , Újezd Svijanský 11 Máša M . , Tišnov 23 Mášl J . , Vídeň 5 7 Matěna J . , Dvůr Král . 27 Mayer D . , Libochovice', 'end_position': [252, 243, 237, 231, 224, 216, 208, 204, 198, 192, 27, 35, 41, 48, 53, 58, 66, 72, 78, 87, 94, 100, 106, 112, 120, 124, 132, 19, 14, 139, 187, 181, 173, 167, 156, 150, 144, 5], 'entity_label': 'PER', 'impossible': False, 'qas_id': '2834.1', 'query': 'person entities are named persons or family.', 'span_position': ['250;252', '242;243', '235;237', '229;231', '222;224', '214;216', '208;208', '202;204', '196;198', '191;192', '23;27', '31;35', '39;41', '47;48', '52;53', '58;58', '64;66', '70;72', '76;78', '85;87', '92;94', '98;100', '104;106', '110;112', '116;120', '124;124', '128;132', '18;19', '11;14', '137;139', '185;187', '179;181', '171;173', '166;167', '154;156', '148;150', '142;144', '1;5'], 'start_position': [250, 242, 235, 229, 222, 214, 208, 202, 196, 191, 23, 31, 39, 47, 52, 58, 64, 70, 76, 85, 92, 98, 104, 110, 116, 124, 128, 18, 11, 137, 185, 179, 171, 166, 154, 148, 142, 1], 'data_source': 'NER', 'file_name': '013748_1879_uuid-1096eca5-483a-4db2-ba04-00cbe965af0c__r003.txt', 'anotator_id': '3'}\n",
      "{'context': 'Kalendáře „ Havlíček “ a „ Palacký “ na rok 1918 nákladem Zemského Ústředního Spolku Jednot učitelských v král . Českém právě vydány a to „ Havlíček “ jako ročník XVI . , „ Palacký “ jako ročník XV . Jako v každém předešlém , tak i v tomto novém vydání sešli se naši osvědčení při - spívatelé z nejpřednějších českých kruhů lite - rárních a můžeme tudíž s plným vědomím uji - stiti naše čtenáře , že se jim v obou kalendářích dostává zábavy a poučení z per nejpřednějších členů obce spisovatelské a ilustrací našich osvěd - čených českých umělců . J . S . Machar , E . X . Svoboda , Ant . Klášterský , Jan Havlasa , J . V . Sládek , Václav Krofta , Fr . Sekanina , Ig . Heir - mann , Fr . Flos , Fr . S . Procházka , Růž . Svobo - dová , Fr . Župan , Kar . Leger , J . Chýna , Jan Petrus , K . Egor , Jan Rokyta , Ant . Herynk , O . M . Vyskočil , Silva Hlubínskú , Hd . Daněk , Magda Bí - IUII HIFLKSIEIIIH', 'end_position': [154, 26, 106, 112, 116, 158, 34, 162, 2, 169, 119, 125, 128, 132, 138, 166, 197, 193, 189, 186, 180, 6, 173, 176, 142, 148], 'entity_label': 'PER', 'impossible': False, 'qas_id': '2903.1', 'query': 'person entities are named persons or family.', 'span_position': ['150;154', '26;26', '102;106', '108;112', '113;116', '156;158', '34;34', '160;162', '2;2', '167;169', '118;119', '120;125', '127;128', '129;132', '133;138', '164;166', '194;197', '190;193', '187;189', '182;186', '178;180', '6;6', '171;173', '175;176', '140;142', '144;148'], 'start_position': [150, 26, 102, 108, 113, 156, 34, 160, 2, 167, 118, 120, 127, 129, 133, 164, 194, 190, 187, 182, 178, 6, 171, 175, 140, 144], 'data_source': 'NER', 'file_name': '014148_1917_uuid-dafaf95d-32f1-11eb-93cc-001b63bd97ba__r001.txt', 'anotator_id': '3'}\n",
      "{'context': '§ . 41 . Zápisy , kteréž z některé knihy pozemkové v nově sdělané vklady knihovní z povinnosti úřední se převádějí , buďtež číslicemi řadovými v aritmetickém po - stupu opatřeny , šetříc předpisů navedení knihovního z dne 12 . ledna 1872 , č . 5 říšsk . zák . Tento převod vztahujž se ke všem k tomu vhodným zápisům , kteréž se před uzavřením těch kterých knihov - ních vkladů knihy , kteréž buď zcela aneb částečně upo - třebiti se nemá , vykonají .', 'end_position': [], 'entity_label': 'PER', 'impossible': True, 'qas_id': '2988.1', 'query': 'person entities are named persons or family.', 'span_position': [], 'start_position': [], 'data_source': 'NER', 'file_name': '014548_1875_uuid-f42c08ea-7171-4721-9ccf-d83246ef619c__r001.txt', 'anotator_id': '3'}\n",
      "{'context': 'Bauhinia corymbosa z Číny .', 'end_position': [], 'entity_label': 'PER', 'impossible': True, 'qas_id': '3006.1', 'query': 'person entities are named persons or family.', 'span_position': [], 'start_position': [], 'data_source': 'NER', 'file_name': '014648_1857_uuid-1ce74c22-435e-11dd-b505-00145e5790ea__r002.txt', 'anotator_id': '3'}\n",
      "{'context': '☞ Díla dějepisná vydaná nákladem kněhkupectví : I . L . Kober , jichž dostati lze zde , ve všech řádných kněhkupectvích , jakož i u jednatelův nakladatelových ;', 'end_position': [11], 'entity_label': 'PER', 'impossible': False, 'qas_id': '3062.1', 'query': 'person entities are named persons or family.', 'span_position': ['7;11'], 'start_position': [7], 'data_source': 'NER', 'file_name': '014948_1866_uuid-015befbb-f0ac-41fb-8200-b33e17c96e8c__r000.txt', 'anotator_id': '3'}\n"
     ]
    }
   ],
   "source": [
    "# split the merged data into three groups based on the annotator_id\n",
    "# The annotator_id is expected to be a string, so we check for '1', '2', '3' and '01', '02', '03'\n",
    "\n",
    "annotator_1_data = []\n",
    "annotator_2_data = []\n",
    "annotator_3_data = []\n",
    "\n",
    "for entry in merged_data:\n",
    "    if 'anotator_id' in entry:\n",
    "        annotator_id = entry['anotator_id']\n",
    "        \n",
    "        if annotator_id in ['1', '01']:\n",
    "            annotator_1_data.append(entry)\n",
    "        elif annotator_id in ['2', '02']:\n",
    "            annotator_2_data.append(entry)\n",
    "        elif annotator_id in ['3', '03']:\n",
    "            annotator_3_data.append(entry)\n",
    "\n",
    "# find the common contexts across all three annotators\n",
    "contexts_annotator_1 = set(entry['context'] for entry in annotator_1_data)\n",
    "contexts_annotator_2 = set(entry['context'] for entry in annotator_2_data)\n",
    "contexts_annotator_3 = set(entry['context'] for entry in annotator_3_data)\n",
    "common_contexts = contexts_annotator_1.intersection(contexts_annotator_2, contexts_annotator_3)\n",
    "\n",
    "print(f\"Total unique contexts in annotator 1 data: {len(contexts_annotator_1)}\")\n",
    "print(f\"Total unique contexts in annotator 2 data: {len(contexts_annotator_2)}\")\n",
    "print(f\"Total unique contexts in annotator 3 data: {len(contexts_annotator_3)}\")\n",
    "print(f\"Number of contexts common to all three annotators: {len(common_contexts)}\")\n",
    "\n",
    "\n",
    "# Filter each annotator's data to include only entries with common contexts\n",
    "filtered_annotator_1_data = [entry for entry in annotator_1_data if entry['context'] in common_contexts]\n",
    "filtered_annotator_2_data = [entry for entry in annotator_2_data if entry['context'] in common_contexts]\n",
    "filtered_annotator_3_data = [entry for entry in annotator_3_data if entry['context'] in common_contexts]\n",
    "\n",
    "print(f\"Filtered annotator 1 data: {len(filtered_annotator_1_data)} entries\")\n",
    "print(f\"Filtered annotator 2 data: {len(filtered_annotator_2_data)} entries\")\n",
    "print(f\"Filtered annotator 3 data: {len(filtered_annotator_3_data)} entries\")\n",
    "\n",
    "\n"
   ]
  },
  {
   "cell_type": "code",
   "execution_count": 6,
   "id": "5fa93833",
   "metadata": {},
   "outputs": [],
   "source": [
    "with open('common_annotator_1_data.json', 'w', encoding='utf-8') as f:\n",
    "    json.dump(filtered_annotator_1_data, f, ensure_ascii=False, indent=2)\n",
    "\n",
    "with open('common_annotator_2_data.json', 'w', encoding='utf-8') as f:\n",
    "    json.dump(filtered_annotator_2_data, f, ensure_ascii=False, indent=2)\n",
    "\n",
    "with open('common_annotator_3_data.json', 'w', encoding='utf-8') as f:\n",
    "    json.dump(filtered_annotator_3_data, f, ensure_ascii=False, indent=2)"
   ]
  }
 ],
 "metadata": {
  "kernelspec": {
   "display_name": "Python 3",
   "language": "python",
   "name": "python3"
  },
  "language_info": {
   "codemirror_mode": {
    "name": "ipython",
    "version": 3
   },
   "file_extension": ".py",
   "mimetype": "text/x-python",
   "name": "python",
   "nbconvert_exporter": "python",
   "pygments_lexer": "ipython3",
   "version": "3.11.9"
  }
 },
 "nbformat": 4,
 "nbformat_minor": 5
}
